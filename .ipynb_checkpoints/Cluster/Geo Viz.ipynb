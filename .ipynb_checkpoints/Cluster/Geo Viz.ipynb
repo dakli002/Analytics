{
 "cells": [
  {
   "cell_type": "code",
   "execution_count": null,
   "metadata": {
    "scrolled": false
   },
   "outputs": [],
   "source": [
    "\n"
   ]
  },
  {
   "cell_type": "code",
   "execution_count": null,
   "metadata": {},
   "outputs": [],
   "source": []
  },
  {
   "cell_type": "code",
   "execution_count": null,
   "metadata": {},
   "outputs": [],
   "source": []
  },
  {
   "cell_type": "code",
   "execution_count": null,
   "metadata": {},
   "outputs": [],
   "source": []
  },
  {
   "cell_type": "code",
   "execution_count": null,
   "metadata": {},
   "outputs": [],
   "source": []
  },
  {
   "cell_type": "code",
   "execution_count": null,
   "metadata": {},
   "outputs": [],
   "source": [
    "\n",
    "\n",
    "import altair as alt\n",
    "alt.data_transformers.disable_max_rows()"
   ]
  },
  {
   "cell_type": "code",
   "execution_count": null,
   "metadata": {},
   "outputs": [],
   "source": [
    "alt.data_transformers.disable_max_rows()"
   ]
  },
  {
   "cell_type": "code",
   "execution_count": null,
   "metadata": {},
   "outputs": [],
   "source": [
    "import geopandas as gpd"
   ]
  },
  {
   "cell_type": "code",
   "execution_count": null,
   "metadata": {},
   "outputs": [],
   "source": []
  },
  {
   "cell_type": "code",
   "execution_count": null,
   "metadata": {},
   "outputs": [],
   "source": []
  },
  {
   "cell_type": "code",
   "execution_count": null,
   "metadata": {},
   "outputs": [],
   "source": []
  },
  {
   "cell_type": "code",
   "execution_count": null,
   "metadata": {},
   "outputs": [],
   "source": []
  },
  {
   "cell_type": "code",
   "execution_count": null,
   "metadata": {},
   "outputs": [],
   "source": []
  },
  {
   "cell_type": "code",
   "execution_count": null,
   "metadata": {},
   "outputs": [],
   "source": []
  },
  {
   "cell_type": "code",
   "execution_count": null,
   "metadata": {},
   "outputs": [],
   "source": []
  },
  {
   "cell_type": "code",
   "execution_count": null,
   "metadata": {},
   "outputs": [],
   "source": [
    "# Import Leipzig data \n",
    "\n",
    "import pandas as pd\n",
    "\n",
    "leipzig =  pd.read_csv(\"leipzig.csv\")\n",
    "leipzig = leipzig.drop(\"day\", axis = 1).drop(\"time\", axis = 1).drop(\"city\", axis = 1).drop(\"trip_duration\", axis = 1).drop(\"dest_lat\", axis = 1).drop(\"dest_lng\", axis = 1).drop(\"b_number\", axis = 1)"
   ]
  },
  {
   "cell_type": "code",
   "execution_count": null,
   "metadata": {},
   "outputs": [],
   "source": []
  },
  {
   "cell_type": "code",
   "execution_count": null,
   "metadata": {},
   "outputs": [],
   "source": []
  },
  {
   "cell_type": "code",
   "execution_count": null,
   "metadata": {},
   "outputs": [],
   "source": []
  },
  {
   "cell_type": "code",
   "execution_count": null,
   "metadata": {},
   "outputs": [],
   "source": [
    "Rad_B = gpd.GeoDataFrame(leipzig, geometry=gpd.points_from_xy(leipzig.orig_lng, leipzig.orig_lat))\n",
    "#Rad_B = Rad.head(185)\n",
    "#Rad_B"
   ]
  },
  {
   "cell_type": "raw",
   "metadata": {},
   "source": []
  },
  {
   "cell_type": "code",
   "execution_count": null,
   "metadata": {},
   "outputs": [],
   "source": [
    "\n",
    "\n",
    "# Code for other Map Version\n",
    "\n",
    "#import seaborn as sns\n",
    "\n",
    "#def read_shapefile(sf):\n",
    "#    \"\"\"\n",
    "#    Read a shapefile into a Pandas dataframe with a 'coords' \n",
    "#    column holding the geometry information. This uses the pyshp\n",
    "#    package\n",
    "#    \"\"\"\n",
    "#    fields = [x[0] for x in sf.fields][1:]\n",
    "#    records = sf.records()\n",
    "#    shps = [s.points for s in sf.shapes()]    \n",
    "#    df = pd.DataFrame(columns=fields, data=records)\n",
    "#    df = df.assign(coords=shps)    \n",
    "#    return df\n",
    "\n",
    "# Read Shapefile for districts of Leipzig \n",
    "\n",
    "#import shapefile as shp\n",
    "#sf = shp.Reader(\"ot.shp\")\n",
    "#df = read_shapefile(sf)\n",
    "#df\n",
    "\n",
    "#def plot_shape(id, s=None):\n",
    "#    \"\"\" PLOTS A SINGLE SHAPE \"\"\"\n",
    "#    plt.figure()\n",
    "#    ax = plt.axes()\n",
    "#    ax.set_aspect('equal')\n",
    "#    shape_ex = sf.shape(id)\n",
    "#    x_lon = np.zeros((len(shape_ex.points),1))\n",
    "#   y_lat = np.zeros((len(shape_ex.points),1))\n",
    "#    for ip in range(len(shape_ex.points)):\n",
    "#        x_lon[ip] = shape_ex.points[ip][0]\n",
    "#        y_lat[ip] = shape_ex.points[ip][1]    \n",
    "#        plt.plot(x_lon,y_lat) \n",
    "#    x0 = np.mean(x_lon)\n",
    "#    y0 = np.mean(y_lat)\n",
    "#    plt.text(x0, y0, s, fontsize=10)\n",
    "#    # use bbox (bounding box) to set plot limits\n",
    "#    plt.xlim(shape_ex.bbox[0],shape_ex.bbox[2])\n",
    "#    return x0, y0\n",
    "\n",
    "#def plot_map(sf, x_lim = None, y_lim = None, figsize = (11,9)):\n",
    "#    '''\n",
    "#    Plot map with lim coordinates\n",
    "#   '''\n",
    "#    plt.figure(figsize = figsize)\n",
    "#    id=0\n",
    "#    for shape in sf.shapeRecords():\n",
    "#        x = [i[0] for i in shape.shape.points[:]]\n",
    "#        y = [i[1] for i in shape.shape.points[:]]\n",
    "#        plt.plot(x, y, 'k')\n",
    "#        \n",
    "#        if (x_lim == None) & (y_lim == None):\n",
    "#            x0 = np.mean(x)\n",
    "#           y0 = np.mean(y)\n",
    "#            plt.text(x0, y0, id, fontsize=10)\n",
    "#        id = id+1\n",
    "#    \n",
    "#    if (x_lim != None) & (y_lim != None):     \n",
    "#        plt.xlim(x_lim)\n",
    "#        plt.ylim(y_lim)"
   ]
  },
  {
   "cell_type": "code",
   "execution_count": null,
   "metadata": {},
   "outputs": [],
   "source": [
    "#plot_map(sf) "
   ]
  },
  {
   "cell_type": "code",
   "execution_count": null,
   "metadata": {},
   "outputs": [],
   "source": []
  },
  {
   "cell_type": "code",
   "execution_count": null,
   "metadata": {},
   "outputs": [],
   "source": []
  },
  {
   "cell_type": "code",
   "execution_count": null,
   "metadata": {},
   "outputs": [],
   "source": [
    "# import packages \n",
    "\n",
    "import matplotlib.pyplot as plt\n",
    "import numpy as np"
   ]
  },
  {
   "cell_type": "code",
   "execution_count": null,
   "metadata": {},
   "outputs": [],
   "source": []
  },
  {
   "cell_type": "code",
   "execution_count": null,
   "metadata": {},
   "outputs": [],
   "source": []
  },
  {
   "cell_type": "code",
   "execution_count": null,
   "metadata": {},
   "outputs": [],
   "source": [
    "# Read geoData from open data source of the city of leipzig \n",
    "# including all districts with it's coordinates\n",
    "\n",
    "shapefile = gpd.read_file(\"ot.shp\")\n",
    "#inline_data = alt.InlineData(shapefile.to_json())\n",
    "\n",
    "#change the coordinat setting to crs (Important for visibility!!!)\n",
    "test_map = shapefile.to_crs(epsg=4326)\n"
   ]
  },
  {
   "cell_type": "code",
   "execution_count": null,
   "metadata": {},
   "outputs": [],
   "source": [
    "import json\n",
    "# dump as map data as json\n",
    "json_gdf = test_map.to_json()\n",
    "\n",
    "# load as a GeoJSON object.\n",
    "json_features = json.loads(json_gdf)\n",
    "\n"
   ]
  },
  {
   "cell_type": "code",
   "execution_count": null,
   "metadata": {},
   "outputs": [],
   "source": [
    "#transform json data \n",
    "data_geo = alt.Data(values=json_features['features'])"
   ]
  },
  {
   "cell_type": "code",
   "execution_count": null,
   "metadata": {
    "scrolled": true
   },
   "outputs": [],
   "source": [
    "# Drop the geometry to make it usable for the k-Means Algorithm\n",
    "Coord= Rad_B.drop(\"geometry\", axis = 1)"
   ]
  },
  {
   "cell_type": "code",
   "execution_count": null,
   "metadata": {},
   "outputs": [],
   "source": [
    "# Data scaling to make the Data processable \n",
    "from sklearn.preprocessing import StandardScaler\n",
    "\n",
    "s = StandardScaler()\n",
    "X = s.fit_transform(Coord)"
   ]
  },
  {
   "cell_type": "code",
   "execution_count": null,
   "metadata": {},
   "outputs": [],
   "source": [
    "# Apply k-Means algorithm with sci-kit learn\n",
    "# Using the setting of 10 Clusters as first example \n",
    "\n",
    "from sklearn.cluster import KMeans\n",
    "\n",
    "# Cluster size of 10 is definied here (changable afterwards)\n",
    "model = KMeans(n_clusters =10) \n",
    "model.fit(X)\n",
    "\n",
    "# Getting Labels of every single point within the data\n",
    "labels = model.labels_"
   ]
  },
  {
   "cell_type": "code",
   "execution_count": null,
   "metadata": {},
   "outputs": [],
   "source": [
    "# polt the clustered data via mathplot lib\n",
    "# Only to see if it worked in the first place\n",
    "\n",
    "%matplotlib inline\n",
    "\n",
    "import matplotlib.pyplot as plt\n",
    "\n",
    "plt.scatter(X[:, 0], X[:, 1], c = labels)\n",
    "\n",
    "    \n",
    "plt.show()"
   ]
  },
  {
   "cell_type": "code",
   "execution_count": null,
   "metadata": {},
   "outputs": [],
   "source": [
    "# transforming the labels to a dataframe\n",
    "labels_ = pd.DataFrame(data=labels,columns=[\"label\"])\n"
   ]
  },
  {
   "cell_type": "code",
   "execution_count": null,
   "metadata": {},
   "outputs": [],
   "source": [
    "# Merging the dataframe of leipzig with the labels via an index join\n",
    "CoordL = pd.merge(Coord, labels_, left_index=True, right_index=True)\n"
   ]
  },
  {
   "cell_type": "code",
   "execution_count": null,
   "metadata": {},
   "outputs": [],
   "source": [
    "#CoordL = CoordL[(CoordL['orig_lat'] >= CoordL['orig_lat'].quantile(.02)) & (CoordL['orig_lat'] <= CoordL['orig_lat'].quantile(.98)) & (Rad['orig_lng'] >= Rad['orig_lng'].quantile(.02)) & (Rad['orig_lng'] <= Rad['orig_lng'].quantile(.98))]"
   ]
  },
  {
   "cell_type": "code",
   "execution_count": null,
   "metadata": {},
   "outputs": [],
   "source": [
    "#CoordL"
   ]
  },
  {
   "cell_type": "code",
   "execution_count": null,
   "metadata": {},
   "outputs": [],
   "source": [
    "# splitting the dataframe into 10 parts (1 for each label)\n",
    "\n",
    "first = CoordL[(CoordL[\"label\"]==0)]\n",
    "firstL = gpd.GeoDataFrame(first, geometry=gpd.points_from_xy(first.orig_lng, first.orig_lat))\n"
   ]
  },
  {
   "cell_type": "code",
   "execution_count": null,
   "metadata": {},
   "outputs": [],
   "source": [
    "second = CoordL[(CoordL[\"label\"]==1)]\n",
    "secondL = gpd.GeoDataFrame(second, geometry=gpd.points_from_xy(second.orig_lng, second.orig_lat))\n"
   ]
  },
  {
   "cell_type": "code",
   "execution_count": null,
   "metadata": {},
   "outputs": [],
   "source": [
    "third = CoordL[(CoordL[\"label\"]==2)]\n",
    "thirdL = gpd.GeoDataFrame(third, geometry=gpd.points_from_xy(third.orig_lng, third.orig_lat))"
   ]
  },
  {
   "cell_type": "code",
   "execution_count": null,
   "metadata": {},
   "outputs": [],
   "source": [
    "fourth = CoordL[(CoordL[\"label\"]==3)]\n",
    "fourthL = gpd.GeoDataFrame(fourth, geometry=gpd.points_from_xy(fourth.orig_lng, fourth.orig_lat))"
   ]
  },
  {
   "cell_type": "code",
   "execution_count": null,
   "metadata": {},
   "outputs": [],
   "source": [
    "fifth = CoordL[(CoordL[\"label\"]==4)]\n",
    "fifthL = gpd.GeoDataFrame(fifth, geometry=gpd.points_from_xy(fifth.orig_lng, fifth.orig_lat))"
   ]
  },
  {
   "cell_type": "code",
   "execution_count": null,
   "metadata": {},
   "outputs": [],
   "source": [
    "sixth =  CoordL[(CoordL[\"label\"]==5)]\n",
    "sixthL = gpd.GeoDataFrame(sixth, geometry=gpd.points_from_xy(sixth.orig_lng, sixth.orig_lat))"
   ]
  },
  {
   "cell_type": "code",
   "execution_count": null,
   "metadata": {},
   "outputs": [],
   "source": [
    "seventh =  CoordL[(CoordL[\"label\"]==6)]\n",
    "seventhL = gpd.GeoDataFrame(seventh, geometry=gpd.points_from_xy(seventh.orig_lng, seventh.orig_lat))"
   ]
  },
  {
   "cell_type": "code",
   "execution_count": null,
   "metadata": {},
   "outputs": [],
   "source": [
    "eigth =  CoordL[(CoordL[\"label\"]==7)]\n",
    "eigthL = gpd.GeoDataFrame(eigth, geometry=gpd.points_from_xy(eigth.orig_lng, eigth.orig_lat))"
   ]
  },
  {
   "cell_type": "code",
   "execution_count": null,
   "metadata": {},
   "outputs": [],
   "source": [
    "nineth =  CoordL[(CoordL[\"label\"]==8)]\n",
    "ninethL = gpd.GeoDataFrame(nineth, geometry=gpd.points_from_xy(nineth.orig_lng, nineth.orig_lat))"
   ]
  },
  {
   "cell_type": "code",
   "execution_count": null,
   "metadata": {},
   "outputs": [],
   "source": [
    "tenth =  CoordL[(CoordL[\"label\"]==9)]\n",
    "tenthL = gpd.GeoDataFrame(tenth, geometry=gpd.points_from_xy(tenth.orig_lng, tenth.orig_lat))"
   ]
  },
  {
   "cell_type": "code",
   "execution_count": null,
   "metadata": {},
   "outputs": [],
   "source": [
    "# 1.  mark_geoshape transparently uses the geometry column\n",
    "# basemap showing the districts of Leipzig \n",
    "\n",
    "basemap = alt.Chart(data_geo).mark_geoshape(\n",
    "    # add some styling to reduce the salience of the basemap\n",
    "    fill=\"lightgray\", stroke=\"darkgray\"\n",
    ").properties(width=1200, height=1200)\n",
    "\n",
    "# Creating a baseLayer for each Cluster of the data \n",
    "# L1 = Label 1 \n",
    "# L2 = label 2\n",
    "# ....\n",
    "\n",
    "\n",
    "L1 = alt.Chart(firstL).mark_circle(opacity=1).encode(\n",
    "    # point latitude & longitude to coordinates in geometry column\n",
    "    longitude='geometry.coordinates[0]:Q',\n",
    "    latitude='geometry.coordinates[1]:Q',\n",
    ")\n",
    "\n",
    "\n",
    "L2 = alt.Chart(secondL).mark_circle(opacity=1, color=\"green\").encode(\n",
    "    # point latitude & longitude to coordinates in geometry column\n",
    "    longitude='geometry.coordinates[0]:Q',\n",
    "    latitude='geometry.coordinates[1]:Q',\n",
    ")\n",
    "\n",
    "\n",
    "L3 = alt.Chart(thirdL).mark_circle(opacity=1, color=\"blue\").encode(\n",
    "    # point latitude & longitude to coordinates in geometry column\n",
    "    longitude='geometry.coordinates[0]:Q',\n",
    "    latitude='geometry.coordinates[1]:Q',\n",
    ")\n",
    "\n",
    "\n",
    "L4 = alt.Chart(fourthL).mark_circle(opacity=1, color=\"yellow\").encode(\n",
    "    # point latitude & longitude to coordinates in geometry column\n",
    "    longitude='geometry.coordinates[0]:Q',\n",
    "    latitude='geometry.coordinates[1]:Q',\n",
    ")\n",
    "\n",
    "\n",
    "L5 = alt.Chart(fifthL).mark_circle(opacity=1, color=\"purple\").encode(\n",
    "    # point latitude & longitude to coordinates in geometry column\n",
    "    longitude='geometry.coordinates[0]:Q',\n",
    "    latitude='geometry.coordinates[1]:Q',\n",
    ")\n",
    "\n",
    "\n",
    "L6 = alt.Chart(sixthL).mark_circle(opacity=1, color=\"brown\").encode(\n",
    "    # point latitude & longitude to coordinates in geometry column\n",
    "    longitude='geometry.coordinates[0]:Q',\n",
    "    latitude='geometry.coordinates[1]:Q',\n",
    ")\n",
    "\n",
    "\n",
    "L7 = alt.Chart(seventhL).mark_circle(opacity=1, color=\"black\").encode(\n",
    "    # point latitude & longitude to coordinates in geometry column\n",
    "    longitude='geometry.coordinates[0]:Q',\n",
    "    latitude='geometry.coordinates[1]:Q',\n",
    ")\n",
    "\n",
    "\n",
    "L8 = alt.Chart(eigthL).mark_circle(opacity=1, color=\"orange\").encode(\n",
    "    # point latitude & longitude to coordinates in geometry column\n",
    "    longitude='geometry.coordinates[0]:Q',\n",
    "    latitude='geometry.coordinates[1]:Q',\n",
    ")\n",
    "\n",
    "\n",
    "L9 = alt.Chart(ninethL).mark_circle(opacity=1, color=\"grey\").encode(\n",
    "    # point latitude & longitude to coordinates in geometry column\n",
    "    longitude='geometry.coordinates[0]:Q',\n",
    "    latitude='geometry.coordinates[1]:Q',\n",
    ")\n",
    "\n",
    "\n",
    "L10 = alt.Chart(tenthL).mark_circle(opacity=1, color=\"pink\").encode(\n",
    "    # point latitude & longitude to coordinates in geometry column\n",
    "    longitude='geometry.coordinates[0]:Q',\n",
    "    latitude='geometry.coordinates[1]:Q',\n",
    ")\n",
    "\n",
    "\n",
    "# combine all Layers \n",
    "basemap + L1 + L2 + L3 + L4 + L5 + L6 + L7 + L8 + L9 + L10\n",
    "\n",
    "\n",
    "# Aktueller Stand: Durch die Außreißer in den Daten wird die Map deutlich verkleinert dargestellt.\n",
    "# Teilweise liegen manche Korrdinaten weit außerhalb der Stadtgrenzen \n",
    "# Beim entfernen dieser im nächsten Schritt wird die Visualisierung deutlich schöner\n",
    "\n",
    "# Die Cluster sind im ersten Moment ohne Aussage, diese müssen wir den Daten zuordnen\n",
    "# da es sich hierbei um das unsupervised Learning handelt. \n",
    "# Einzelne Orte in der Stadt (Hbf, Uni, etc...) können helfen\n",
    "\n",
    "# Die Daten befassen sich in der Abbildung nur die Daten an denen die Fahrräder abgeholt worden sind (orig_lat, origin_Ing)\n",
    "\n",
    "# Die Farbgestaltung sollte abgeändert werden :D "
   ]
  },
  {
   "cell_type": "code",
   "execution_count": null,
   "metadata": {},
   "outputs": [],
   "source": []
  },
  {
   "cell_type": "code",
   "execution_count": null,
   "metadata": {},
   "outputs": [],
   "source": []
  },
  {
   "cell_type": "code",
   "execution_count": null,
   "metadata": {},
   "outputs": [],
   "source": []
  },
  {
   "cell_type": "code",
   "execution_count": null,
   "metadata": {},
   "outputs": [],
   "source": []
  },
  {
   "cell_type": "code",
   "execution_count": null,
   "metadata": {},
   "outputs": [],
   "source": []
  },
  {
   "cell_type": "code",
   "execution_count": null,
   "metadata": {},
   "outputs": [],
   "source": []
  },
  {
   "cell_type": "code",
   "execution_count": null,
   "metadata": {},
   "outputs": [],
   "source": []
  },
  {
   "cell_type": "code",
   "execution_count": null,
   "metadata": {},
   "outputs": [],
   "source": []
  },
  {
   "cell_type": "code",
   "execution_count": null,
   "metadata": {},
   "outputs": [],
   "source": []
  },
  {
   "cell_type": "code",
   "execution_count": null,
   "metadata": {},
   "outputs": [],
   "source": []
  },
  {
   "cell_type": "code",
   "execution_count": null,
   "metadata": {},
   "outputs": [],
   "source": []
  }
 ],
 "metadata": {
  "kernelspec": {
   "display_name": "Python 3",
   "language": "python",
   "name": "python3"
  },
  "language_info": {
   "codemirror_mode": {
    "name": "ipython",
    "version": 3
   },
   "file_extension": ".py",
   "mimetype": "text/x-python",
   "name": "python",
   "nbconvert_exporter": "python",
   "pygments_lexer": "ipython3",
   "version": "3.7.3"
  }
 },
 "nbformat": 4,
 "nbformat_minor": 2
}
